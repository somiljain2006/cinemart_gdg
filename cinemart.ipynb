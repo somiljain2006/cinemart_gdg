{
 "cells": [
  {
   "cell_type": "code",
   "execution_count": null,
   "id": "d55266f4",
   "metadata": {},
   "outputs": [],
   "source": [
    "import numpy as np\n",
    "import pandas as pd\n",
    "from sklearn.impute import SimpleImputer\n",
    "import matplotlib.pyplot as plt\n",
    "dataset = pd.read_csv(\"cinemart_dataset.csv\")\n",
    "numcol = dataset.select_dtypes(include=[np.number]).columns\n",
    "charcol = dataset.select_dtypes(exclude=[np.number]).columns"
   ]
  },
  {
   "cell_type": "code",
   "execution_count": null,
   "id": "76aa4e0c",
   "metadata": {},
   "outputs": [],
   "source": [
    "\n",
    "# numerical data changed to mean\n",
    "num_imputer = SimpleImputer(strategy='mean')\n",
    "dataset[numcol] = num_imputer.fit_transform(dataset[numcol])\n",
    "\n",
    "# character data changed to most frequent\n",
    "charimp = SimpleImputer(strategy='most_frequent')\n",
    "dataset[charcol] = charimp.fit_transform(dataset[charcol])\n"
   ]
  },
  {
   "cell_type": "code",
   "execution_count": null,
   "id": "90929a2d",
   "metadata": {},
   "outputs": [],
   "source": [
    "\n",
    "# negative is invalid\n",
    "dataset.loc[dataset[\"Monthly_Fee_USD\"]<0,\"Monthly_Fee_USD\"] = np.nan\n"
   ]
  },
  {
   "cell_type": "code",
   "execution_count": null,
   "id": "e32f4c9f",
   "metadata": {},
   "outputs": [],
   "source": [
    "\n",
    "#handling bad entries\n",
    "dataset[\"Country\"] = dataset[\"Country\"].str.strip().str.title()\n",
    "dataset[\"Country\"] = dataset[\"Country\"].replace({\"U.K\": \"United Kingdom\"})\n",
    "\n",
    "dataset[\"Subscription_Plan\"] = dataset[\"Subscription_Plan\"].str.strip().str.title()\n",
    "dataset[\"Subscription_Plan\"] = dataset[\"Subscription_Plan\"].replace({\n",
    "    \"B\": \"Basic\"\n",
    "})\n",
    "\n",
    "dataset[\"Device_Type\"] = dataset[\"Device_Type\"].str.strip().str.title()\n",
    "dataset[\"Device_Type\"] = dataset[\"Device_Type\"].replace({\n",
    "    \"Andrd\": \"Android\",\n",
    "    \"Ios\": \"iOS\"\n",
    "})\n",
    "\n",
    "dataset[\"Genre\"] = dataset[\"Genre\"].str.strip().str.title()\n",
    "dataset[\"Genre\"] = dataset[\"Genre\"].replace({\n",
    "    \"Dramma\": \"Drama\"\n",
    "})\n",
    "\n",
    "dataset[\"Payment_Method\"] = dataset[\"Payment_Method\"].str.strip().str.title()\n",
    "dataset[\"Payment_Method\"] = dataset[\"Payment_Method\"].replace({\n",
    "    \"Cc\": \"Credit Card\",\n",
    "    \"Card\": \"Credit Card\"\n",
    "})\n"
   ]
  },
  {
   "cell_type": "code",
   "execution_count": null,
   "id": "342b44a0",
   "metadata": {},
   "outputs": [],
   "source": [
    "\n",
    "countwatch = dataset.groupby(\"Country\")[\"Watch_Time_Minutes\"].sum()\n",
    "top5 = countwatch.sort_values(ascending=False).head(5)\n",
    "print(\"Top 5 countries by total watch time\")\n",
    "print(top5)\n"
   ]
  },
  {
   "cell_type": "code",
   "execution_count": null,
   "id": "52e8fc8f",
   "metadata": {},
   "outputs": [],
   "source": [
    "\n",
    "top5.plot(kind=\"bar\", color=\"blue\")\n",
    "plt.title(\"Top 5 countries by total watch time\")\n",
    "plt.ylabel(\"Total Watch Time (Minutes)\")\n",
    "plt.xlabel(\"Country\")\n",
    "plt.show()\n"
   ]
  },
  {
   "cell_type": "code",
   "execution_count": null,
   "id": "1aa6d2f4",
   "metadata": {},
   "outputs": [],
   "source": [
    "\n",
    "genre = dataset.groupby(\"Genre\")[\"Watch_Time_Minutes\"].sum()\n",
    "pop = genre.sort_values(ascending=False)\n",
    "print(\"Most Popular Genres (by Total Watch Time):\")\n",
    "print(pop.head(10))\n"
   ]
  },
  {
   "cell_type": "code",
   "execution_count": null,
   "id": "89a5f221",
   "metadata": {},
   "outputs": [],
   "source": [
    "\n",
    "pop.head(10).plot(kind=\"bar\", color=\"blue\")\n",
    "plt.title(\"Top 10 Genres by Total Watch Time\")\n",
    "plt.ylabel(\"Total Watch Time (Minutes)\")\n",
    "plt.xlabel(\"Genre\")\n",
    "plt.show()\n"
   ]
  },
  {
   "cell_type": "code",
   "execution_count": null,
   "id": "4117bc3f",
   "metadata": {},
   "outputs": [],
   "source": [
    "\n",
    "avg = dataset.groupby(\"Subscription_Plan\")[\"Monthly_Fee_USD\"].mean().round(2)\n",
    "print(\"Average Monthly Fee for Each Subscription Plan:\")\n",
    "print(avg)\n"
   ]
  },
  {
   "cell_type": "code",
   "execution_count": null,
   "id": "11e6b47c",
   "metadata": {},
   "outputs": [],
   "source": [
    "\n",
    "avg.plot(kind=\"bar\", color=\"blue\")\n",
    "plt.title(\"Average Monthly Fee by Subscription Plan\")\n",
    "plt.ylabel(\"Average Monthly Fee (USD)\")\n",
    "plt.xlabel(\"Subscription Plan\")\n",
    "plt.show()\n"
   ]
  },
  {
   "cell_type": "code",
   "execution_count": null,
   "id": "1a00c78e",
   "metadata": {},
   "outputs": [],
   "source": [
    "\n",
    "avgrat = dataset.groupby(\"Genre\")[\"Average_Rating\"].mean().round(2)\n",
    "print(\"Average Rating for Each Genre:\")\n",
    "print(avgrat)\n"
   ]
  },
  {
   "cell_type": "code",
   "execution_count": null,
   "id": "41d50755",
   "metadata": {},
   "outputs": [],
   "source": [
    "\n",
    "avgrat.sort_values(ascending=False).plot(kind=\"bar\", color=\"blue\")\n",
    "plt.title(\"Average Rating by Genre\")\n",
    "plt.ylabel(\"Average Rating\")\n",
    "plt.xlabel(\"Genre\")\n",
    "plt.show()\n"
   ]
  },
  {
   "cell_type": "code",
   "execution_count": null,
   "id": "56c71537",
   "metadata": {},
   "outputs": [],
   "source": [
    "\n",
    "avgwatch = dataset.groupby(\"Subscription_Plan\")[\"Watch_Time_Minutes\"].mean().round(2)\n",
    "print(\"Average Watch Time per Subscription Plan:\")\n",
    "print(avgwatch)\n",
    "avgwatch.plot(kind=\"bar\", color=\"blue\")\n",
    "plt.title(\"Average Watch Time by Subscription Plan\")\n",
    "plt.ylabel(\"Average Watch Time (Minutes)\")\n",
    "plt.xlabel(\"Subscription Plan\")\n",
    "plt.show()\n"
   ]
  },
  {
   "cell_type": "code",
   "execution_count": null,
   "id": "ab170e1f",
   "metadata": {},
   "outputs": [],
   "source": [
    "\n",
    "device = dataset.groupby(\"Device_Type\")[\"Watch_Time_Minutes\"].sum().sort_values(ascending=False)\n",
    "print(\"Total Watch Time by Device Type:\")\n",
    "print(device)\n",
    "device.plot(kind=\"pie\", autopct=\"%1.1f%%\", colors=[\"gold\", \"blue\", \"green\", \"orange\"])\n",
    "plt.title(\"Watch Time Share by Device Type\")\n",
    "plt.show()"
   ]
  }
 ],
 "metadata": {
  "kernelspec": {
   "display_name": "cinemart (3.11.9)",
   "language": "python",
   "name": "python3"
  },
  "language_info": {
   "codemirror_mode": {
    "name": "ipython",
    "version": 3
   },
   "file_extension": ".py",
   "mimetype": "text/x-python",
   "name": "python",
   "nbconvert_exporter": "python",
   "pygments_lexer": "ipython3",
   "version": "3.11.9"
  }
 },
 "nbformat": 4,
 "nbformat_minor": 5
}
